{
 "cells": [
  {
   "cell_type": "markdown",
   "metadata": {},
   "source": [
    "# Insurance price prediction using ANN\n",
    "## our aim is to build ANN regression deep learning model to predict price of insurance.\n",
    "## we will not focus to improve model accuracy ,but to build ANN architecture."
   ]
  },
  {
   "cell_type": "code",
   "execution_count": 161,
   "metadata": {},
   "outputs": [],
   "source": [
    "import pandas as pd\n",
    "import numpy as np\n",
    "import matplotlib.pyplot as plt\n",
    "import seaborn as sns\n",
    "from sklearn.preprocessing import StandardScaler, MinMaxScaler\n",
    "from sklearn.model_selection import train_test_split\n",
    "from sklearn.metrics import r2_score\n",
    "\n",
    "import tensorflow\n",
    "from tensorflow import keras\n",
    "from keras.models import Sequential\n",
    "from keras.layers import Dense"
   ]
  },
  {
   "cell_type": "code",
   "execution_count": 162,
   "metadata": {},
   "outputs": [
    {
     "data": {
      "text/html": [
       "<div>\n",
       "<style scoped>\n",
       "    .dataframe tbody tr th:only-of-type {\n",
       "        vertical-align: middle;\n",
       "    }\n",
       "\n",
       "    .dataframe tbody tr th {\n",
       "        vertical-align: top;\n",
       "    }\n",
       "\n",
       "    .dataframe thead th {\n",
       "        text-align: right;\n",
       "    }\n",
       "</style>\n",
       "<table border=\"1\" class=\"dataframe\">\n",
       "  <thead>\n",
       "    <tr style=\"text-align: right;\">\n",
       "      <th></th>\n",
       "      <th>age</th>\n",
       "      <th>sex</th>\n",
       "      <th>bmi</th>\n",
       "      <th>children</th>\n",
       "      <th>smoker</th>\n",
       "      <th>region</th>\n",
       "      <th>charges</th>\n",
       "    </tr>\n",
       "  </thead>\n",
       "  <tbody>\n",
       "    <tr>\n",
       "      <th>0</th>\n",
       "      <td>19</td>\n",
       "      <td>female</td>\n",
       "      <td>27.900</td>\n",
       "      <td>0</td>\n",
       "      <td>yes</td>\n",
       "      <td>southwest</td>\n",
       "      <td>16884.92400</td>\n",
       "    </tr>\n",
       "    <tr>\n",
       "      <th>1</th>\n",
       "      <td>18</td>\n",
       "      <td>male</td>\n",
       "      <td>33.770</td>\n",
       "      <td>1</td>\n",
       "      <td>no</td>\n",
       "      <td>southeast</td>\n",
       "      <td>1725.55230</td>\n",
       "    </tr>\n",
       "    <tr>\n",
       "      <th>2</th>\n",
       "      <td>28</td>\n",
       "      <td>male</td>\n",
       "      <td>33.000</td>\n",
       "      <td>3</td>\n",
       "      <td>no</td>\n",
       "      <td>southeast</td>\n",
       "      <td>4449.46200</td>\n",
       "    </tr>\n",
       "    <tr>\n",
       "      <th>3</th>\n",
       "      <td>33</td>\n",
       "      <td>male</td>\n",
       "      <td>22.705</td>\n",
       "      <td>0</td>\n",
       "      <td>no</td>\n",
       "      <td>northwest</td>\n",
       "      <td>21984.47061</td>\n",
       "    </tr>\n",
       "    <tr>\n",
       "      <th>4</th>\n",
       "      <td>32</td>\n",
       "      <td>male</td>\n",
       "      <td>28.880</td>\n",
       "      <td>0</td>\n",
       "      <td>no</td>\n",
       "      <td>northwest</td>\n",
       "      <td>3866.85520</td>\n",
       "    </tr>\n",
       "  </tbody>\n",
       "</table>\n",
       "</div>"
      ],
      "text/plain": [
       "   age     sex     bmi  children smoker     region      charges\n",
       "0   19  female  27.900         0    yes  southwest  16884.92400\n",
       "1   18    male  33.770         1     no  southeast   1725.55230\n",
       "2   28    male  33.000         3     no  southeast   4449.46200\n",
       "3   33    male  22.705         0     no  northwest  21984.47061\n",
       "4   32    male  28.880         0     no  northwest   3866.85520"
      ]
     },
     "execution_count": 162,
     "metadata": {},
     "output_type": "execute_result"
    }
   ],
   "source": [
    "df = pd.read_csv(r'insurance.csv')\n",
    "df.head()"
   ]
  },
  {
   "cell_type": "code",
   "execution_count": 163,
   "metadata": {},
   "outputs": [
    {
     "name": "stdout",
     "output_type": "stream",
     "text": [
      "<class 'pandas.core.frame.DataFrame'>\n",
      "RangeIndex: 1338 entries, 0 to 1337\n",
      "Data columns (total 7 columns):\n",
      " #   Column    Non-Null Count  Dtype  \n",
      "---  ------    --------------  -----  \n",
      " 0   age       1338 non-null   int64  \n",
      " 1   sex       1338 non-null   object \n",
      " 2   bmi       1338 non-null   float64\n",
      " 3   children  1338 non-null   int64  \n",
      " 4   smoker    1338 non-null   object \n",
      " 5   region    1338 non-null   object \n",
      " 6   charges   1338 non-null   float64\n",
      "dtypes: float64(2), int64(2), object(3)\n",
      "memory usage: 73.3+ KB\n"
     ]
    }
   ],
   "source": [
    "df.info()"
   ]
  },
  {
   "cell_type": "code",
   "execution_count": 164,
   "metadata": {},
   "outputs": [
    {
     "data": {
      "text/html": [
       "<div>\n",
       "<style scoped>\n",
       "    .dataframe tbody tr th:only-of-type {\n",
       "        vertical-align: middle;\n",
       "    }\n",
       "\n",
       "    .dataframe tbody tr th {\n",
       "        vertical-align: top;\n",
       "    }\n",
       "\n",
       "    .dataframe thead th {\n",
       "        text-align: right;\n",
       "    }\n",
       "</style>\n",
       "<table border=\"1\" class=\"dataframe\">\n",
       "  <thead>\n",
       "    <tr style=\"text-align: right;\">\n",
       "      <th></th>\n",
       "      <th>age</th>\n",
       "      <th>bmi</th>\n",
       "      <th>children</th>\n",
       "      <th>charges</th>\n",
       "    </tr>\n",
       "  </thead>\n",
       "  <tbody>\n",
       "    <tr>\n",
       "      <th>count</th>\n",
       "      <td>1338.000000</td>\n",
       "      <td>1338.000000</td>\n",
       "      <td>1338.000000</td>\n",
       "      <td>1338.000000</td>\n",
       "    </tr>\n",
       "    <tr>\n",
       "      <th>mean</th>\n",
       "      <td>39.207025</td>\n",
       "      <td>30.663397</td>\n",
       "      <td>1.094918</td>\n",
       "      <td>13270.422265</td>\n",
       "    </tr>\n",
       "    <tr>\n",
       "      <th>std</th>\n",
       "      <td>14.049960</td>\n",
       "      <td>6.098187</td>\n",
       "      <td>1.205493</td>\n",
       "      <td>12110.011237</td>\n",
       "    </tr>\n",
       "    <tr>\n",
       "      <th>min</th>\n",
       "      <td>18.000000</td>\n",
       "      <td>15.960000</td>\n",
       "      <td>0.000000</td>\n",
       "      <td>1121.873900</td>\n",
       "    </tr>\n",
       "    <tr>\n",
       "      <th>25%</th>\n",
       "      <td>27.000000</td>\n",
       "      <td>26.296250</td>\n",
       "      <td>0.000000</td>\n",
       "      <td>4740.287150</td>\n",
       "    </tr>\n",
       "    <tr>\n",
       "      <th>50%</th>\n",
       "      <td>39.000000</td>\n",
       "      <td>30.400000</td>\n",
       "      <td>1.000000</td>\n",
       "      <td>9382.033000</td>\n",
       "    </tr>\n",
       "    <tr>\n",
       "      <th>75%</th>\n",
       "      <td>51.000000</td>\n",
       "      <td>34.693750</td>\n",
       "      <td>2.000000</td>\n",
       "      <td>16639.912515</td>\n",
       "    </tr>\n",
       "    <tr>\n",
       "      <th>max</th>\n",
       "      <td>64.000000</td>\n",
       "      <td>53.130000</td>\n",
       "      <td>5.000000</td>\n",
       "      <td>63770.428010</td>\n",
       "    </tr>\n",
       "  </tbody>\n",
       "</table>\n",
       "</div>"
      ],
      "text/plain": [
       "               age          bmi     children       charges\n",
       "count  1338.000000  1338.000000  1338.000000   1338.000000\n",
       "mean     39.207025    30.663397     1.094918  13270.422265\n",
       "std      14.049960     6.098187     1.205493  12110.011237\n",
       "min      18.000000    15.960000     0.000000   1121.873900\n",
       "25%      27.000000    26.296250     0.000000   4740.287150\n",
       "50%      39.000000    30.400000     1.000000   9382.033000\n",
       "75%      51.000000    34.693750     2.000000  16639.912515\n",
       "max      64.000000    53.130000     5.000000  63770.428010"
      ]
     },
     "execution_count": 164,
     "metadata": {},
     "output_type": "execute_result"
    }
   ],
   "source": [
    "df.describe()"
   ]
  },
  {
   "cell_type": "code",
   "execution_count": 165,
   "metadata": {},
   "outputs": [
    {
     "data": {
      "text/plain": [
       "age         0\n",
       "sex         0\n",
       "bmi         0\n",
       "children    0\n",
       "smoker      0\n",
       "region      0\n",
       "charges     0\n",
       "dtype: int64"
      ]
     },
     "execution_count": 165,
     "metadata": {},
     "output_type": "execute_result"
    }
   ],
   "source": [
    "df.isna().sum()"
   ]
  },
  {
   "cell_type": "code",
   "execution_count": 166,
   "metadata": {},
   "outputs": [
    {
     "data": {
      "text/html": [
       "<div>\n",
       "<style scoped>\n",
       "    .dataframe tbody tr th:only-of-type {\n",
       "        vertical-align: middle;\n",
       "    }\n",
       "\n",
       "    .dataframe tbody tr th {\n",
       "        vertical-align: top;\n",
       "    }\n",
       "\n",
       "    .dataframe thead th {\n",
       "        text-align: right;\n",
       "    }\n",
       "</style>\n",
       "<table border=\"1\" class=\"dataframe\">\n",
       "  <thead>\n",
       "    <tr style=\"text-align: right;\">\n",
       "      <th></th>\n",
       "      <th>age</th>\n",
       "      <th>sex</th>\n",
       "      <th>bmi</th>\n",
       "      <th>children</th>\n",
       "      <th>smoker</th>\n",
       "      <th>charges</th>\n",
       "      <th>region_northwest</th>\n",
       "      <th>region_southeast</th>\n",
       "      <th>region_southwest</th>\n",
       "    </tr>\n",
       "  </thead>\n",
       "  <tbody>\n",
       "    <tr>\n",
       "      <th>0</th>\n",
       "      <td>19</td>\n",
       "      <td>female</td>\n",
       "      <td>27.900</td>\n",
       "      <td>0</td>\n",
       "      <td>yes</td>\n",
       "      <td>16884.92400</td>\n",
       "      <td>0</td>\n",
       "      <td>0</td>\n",
       "      <td>1</td>\n",
       "    </tr>\n",
       "    <tr>\n",
       "      <th>1</th>\n",
       "      <td>18</td>\n",
       "      <td>male</td>\n",
       "      <td>33.770</td>\n",
       "      <td>1</td>\n",
       "      <td>no</td>\n",
       "      <td>1725.55230</td>\n",
       "      <td>0</td>\n",
       "      <td>1</td>\n",
       "      <td>0</td>\n",
       "    </tr>\n",
       "    <tr>\n",
       "      <th>2</th>\n",
       "      <td>28</td>\n",
       "      <td>male</td>\n",
       "      <td>33.000</td>\n",
       "      <td>3</td>\n",
       "      <td>no</td>\n",
       "      <td>4449.46200</td>\n",
       "      <td>0</td>\n",
       "      <td>1</td>\n",
       "      <td>0</td>\n",
       "    </tr>\n",
       "    <tr>\n",
       "      <th>3</th>\n",
       "      <td>33</td>\n",
       "      <td>male</td>\n",
       "      <td>22.705</td>\n",
       "      <td>0</td>\n",
       "      <td>no</td>\n",
       "      <td>21984.47061</td>\n",
       "      <td>1</td>\n",
       "      <td>0</td>\n",
       "      <td>0</td>\n",
       "    </tr>\n",
       "    <tr>\n",
       "      <th>4</th>\n",
       "      <td>32</td>\n",
       "      <td>male</td>\n",
       "      <td>28.880</td>\n",
       "      <td>0</td>\n",
       "      <td>no</td>\n",
       "      <td>3866.85520</td>\n",
       "      <td>1</td>\n",
       "      <td>0</td>\n",
       "      <td>0</td>\n",
       "    </tr>\n",
       "  </tbody>\n",
       "</table>\n",
       "</div>"
      ],
      "text/plain": [
       "   age     sex     bmi  children smoker      charges  region_northwest  \\\n",
       "0   19  female  27.900         0    yes  16884.92400                 0   \n",
       "1   18    male  33.770         1     no   1725.55230                 0   \n",
       "2   28    male  33.000         3     no   4449.46200                 0   \n",
       "3   33    male  22.705         0     no  21984.47061                 1   \n",
       "4   32    male  28.880         0     no   3866.85520                 1   \n",
       "\n",
       "   region_southeast  region_southwest  \n",
       "0                 0                 1  \n",
       "1                 1                 0  \n",
       "2                 1                 0  \n",
       "3                 0                 0  \n",
       "4                 0                 0  "
      ]
     },
     "execution_count": 166,
     "metadata": {},
     "output_type": "execute_result"
    }
   ],
   "source": [
    "# we have some object features will use encoding for that\n",
    "df.head()\n",
    "df = pd.get_dummies(df,columns= ['region'], drop_first=True,dtype = int)\n",
    "df.head()"
   ]
  },
  {
   "cell_type": "code",
   "execution_count": 167,
   "metadata": {},
   "outputs": [
    {
     "data": {
      "text/plain": [
       "{'male': 676, 'female': 662}"
      ]
     },
     "execution_count": 167,
     "metadata": {},
     "output_type": "execute_result"
    }
   ],
   "source": [
    "df['sex'].value_counts().to_dict()"
   ]
  },
  {
   "cell_type": "code",
   "execution_count": 168,
   "metadata": {},
   "outputs": [],
   "source": [
    "df['sex'].replace({'male': 1, 'female': 0}, inplace=True)"
   ]
  },
  {
   "cell_type": "code",
   "execution_count": 169,
   "metadata": {},
   "outputs": [
    {
     "data": {
      "text/plain": [
       "{'no': 1064, 'yes': 274}"
      ]
     },
     "execution_count": 169,
     "metadata": {},
     "output_type": "execute_result"
    }
   ],
   "source": [
    "df['smoker'].value_counts().to_dict()"
   ]
  },
  {
   "cell_type": "code",
   "execution_count": 170,
   "metadata": {},
   "outputs": [
    {
     "data": {
      "text/html": [
       "<div>\n",
       "<style scoped>\n",
       "    .dataframe tbody tr th:only-of-type {\n",
       "        vertical-align: middle;\n",
       "    }\n",
       "\n",
       "    .dataframe tbody tr th {\n",
       "        vertical-align: top;\n",
       "    }\n",
       "\n",
       "    .dataframe thead th {\n",
       "        text-align: right;\n",
       "    }\n",
       "</style>\n",
       "<table border=\"1\" class=\"dataframe\">\n",
       "  <thead>\n",
       "    <tr style=\"text-align: right;\">\n",
       "      <th></th>\n",
       "      <th>age</th>\n",
       "      <th>sex</th>\n",
       "      <th>bmi</th>\n",
       "      <th>children</th>\n",
       "      <th>smoker</th>\n",
       "      <th>charges</th>\n",
       "      <th>region_northwest</th>\n",
       "      <th>region_southeast</th>\n",
       "      <th>region_southwest</th>\n",
       "    </tr>\n",
       "  </thead>\n",
       "  <tbody>\n",
       "    <tr>\n",
       "      <th>0</th>\n",
       "      <td>19</td>\n",
       "      <td>0</td>\n",
       "      <td>27.900</td>\n",
       "      <td>0</td>\n",
       "      <td>1</td>\n",
       "      <td>16884.92400</td>\n",
       "      <td>0</td>\n",
       "      <td>0</td>\n",
       "      <td>1</td>\n",
       "    </tr>\n",
       "    <tr>\n",
       "      <th>1</th>\n",
       "      <td>18</td>\n",
       "      <td>1</td>\n",
       "      <td>33.770</td>\n",
       "      <td>1</td>\n",
       "      <td>0</td>\n",
       "      <td>1725.55230</td>\n",
       "      <td>0</td>\n",
       "      <td>1</td>\n",
       "      <td>0</td>\n",
       "    </tr>\n",
       "    <tr>\n",
       "      <th>2</th>\n",
       "      <td>28</td>\n",
       "      <td>1</td>\n",
       "      <td>33.000</td>\n",
       "      <td>3</td>\n",
       "      <td>0</td>\n",
       "      <td>4449.46200</td>\n",
       "      <td>0</td>\n",
       "      <td>1</td>\n",
       "      <td>0</td>\n",
       "    </tr>\n",
       "    <tr>\n",
       "      <th>3</th>\n",
       "      <td>33</td>\n",
       "      <td>1</td>\n",
       "      <td>22.705</td>\n",
       "      <td>0</td>\n",
       "      <td>0</td>\n",
       "      <td>21984.47061</td>\n",
       "      <td>1</td>\n",
       "      <td>0</td>\n",
       "      <td>0</td>\n",
       "    </tr>\n",
       "    <tr>\n",
       "      <th>4</th>\n",
       "      <td>32</td>\n",
       "      <td>1</td>\n",
       "      <td>28.880</td>\n",
       "      <td>0</td>\n",
       "      <td>0</td>\n",
       "      <td>3866.85520</td>\n",
       "      <td>1</td>\n",
       "      <td>0</td>\n",
       "      <td>0</td>\n",
       "    </tr>\n",
       "  </tbody>\n",
       "</table>\n",
       "</div>"
      ],
      "text/plain": [
       "   age  sex     bmi  children  smoker      charges  region_northwest  \\\n",
       "0   19    0  27.900         0       1  16884.92400                 0   \n",
       "1   18    1  33.770         1       0   1725.55230                 0   \n",
       "2   28    1  33.000         3       0   4449.46200                 0   \n",
       "3   33    1  22.705         0       0  21984.47061                 1   \n",
       "4   32    1  28.880         0       0   3866.85520                 1   \n",
       "\n",
       "   region_southeast  region_southwest  \n",
       "0                 0                 1  \n",
       "1                 1                 0  \n",
       "2                 1                 0  \n",
       "3                 0                 0  \n",
       "4                 0                 0  "
      ]
     },
     "execution_count": 170,
     "metadata": {},
     "output_type": "execute_result"
    }
   ],
   "source": [
    "df['smoker'].replace({'no': 0, 'yes': 1}, inplace=True)\n",
    "df.head()"
   ]
  },
  {
   "cell_type": "code",
   "execution_count": 171,
   "metadata": {},
   "outputs": [
    {
     "name": "stdout",
     "output_type": "stream",
     "text": [
      "<class 'pandas.core.frame.DataFrame'>\n",
      "RangeIndex: 1338 entries, 0 to 1337\n",
      "Data columns (total 9 columns):\n",
      " #   Column            Non-Null Count  Dtype  \n",
      "---  ------            --------------  -----  \n",
      " 0   age               1338 non-null   int64  \n",
      " 1   sex               1338 non-null   int64  \n",
      " 2   bmi               1338 non-null   float64\n",
      " 3   children          1338 non-null   int64  \n",
      " 4   smoker            1338 non-null   int64  \n",
      " 5   charges           1338 non-null   float64\n",
      " 6   region_northwest  1338 non-null   int32  \n",
      " 7   region_southeast  1338 non-null   int32  \n",
      " 8   region_southwest  1338 non-null   int32  \n",
      "dtypes: float64(2), int32(3), int64(4)\n",
      "memory usage: 78.5 KB\n"
     ]
    }
   ],
   "source": [
    "df.info()"
   ]
  },
  {
   "cell_type": "code",
   "execution_count": 172,
   "metadata": {},
   "outputs": [
    {
     "data": {
      "text/plain": [
       "array([-1.43876426, -1.0105187 , -0.45332   , -0.90861367,  1.97058663,\n",
       "       -0.56641788, -0.61132367,  1.76548098])"
      ]
     },
     "execution_count": 172,
     "metadata": {},
     "output_type": "execute_result"
    }
   ],
   "source": [
    "# split data\n",
    "x = df.drop(columns= ['charges'], axis = 1)\n",
    "y = df.charges\n",
    "\n",
    "scaler = StandardScaler()\n",
    "x_scaled = scaler.fit_transform(x)\n",
    "\n",
    "x_scaled[0]"
   ]
  },
  {
   "cell_type": "code",
   "execution_count": 173,
   "metadata": {},
   "outputs": [],
   "source": [
    "x_train, x_test, y_train , y_test = train_test_split(x_scaled, y, test_size=0.25, random_state=22)"
   ]
  },
  {
   "cell_type": "code",
   "execution_count": 174,
   "metadata": {},
   "outputs": [
    {
     "data": {
      "text/plain": [
       "(1003, 8)"
      ]
     },
     "execution_count": 174,
     "metadata": {},
     "output_type": "execute_result"
    }
   ],
   "source": [
    "x_train.shape"
   ]
  },
  {
   "cell_type": "code",
   "execution_count": 175,
   "metadata": {},
   "outputs": [
    {
     "data": {
      "text/plain": [
       "(335, 8)"
      ]
     },
     "execution_count": 175,
     "metadata": {},
     "output_type": "execute_result"
    }
   ],
   "source": [
    "x_test.shape"
   ]
  },
  {
   "cell_type": "code",
   "execution_count": 176,
   "metadata": {},
   "outputs": [
    {
     "data": {
      "text/plain": [
       "(1003,)"
      ]
     },
     "execution_count": 176,
     "metadata": {},
     "output_type": "execute_result"
    }
   ],
   "source": [
    "y_train.shape"
   ]
  },
  {
   "cell_type": "code",
   "execution_count": 177,
   "metadata": {},
   "outputs": [
    {
     "data": {
      "text/plain": [
       "(335,)"
      ]
     },
     "execution_count": 177,
     "metadata": {},
     "output_type": "execute_result"
    }
   ],
   "source": [
    "y_test.shape"
   ]
  },
  {
   "cell_type": "code",
   "execution_count": 178,
   "metadata": {},
   "outputs": [
    {
     "name": "stdout",
     "output_type": "stream",
     "text": [
      "Model: \"sequential_7\"\n",
      "_________________________________________________________________\n",
      " Layer (type)                Output Shape              Param #   \n",
      "=================================================================\n",
      " dense_14 (Dense)            (None, 64)                576       \n",
      "                                                                 \n",
      " dense_15 (Dense)            (None, 1)                 65        \n",
      "                                                                 \n",
      "=================================================================\n",
      "Total params: 641\n",
      "Trainable params: 641\n",
      "Non-trainable params: 0\n",
      "_________________________________________________________________\n"
     ]
    }
   ],
   "source": [
    "# building ANN\n",
    "model = Sequential()\n",
    "model.add(Dense(64, activation= 'sigmoid', input_dim = 8))\n",
    "model.add(Dense(1, activation='linear'))\n",
    "model.summary()"
   ]
  },
  {
   "cell_type": "code",
   "execution_count": 179,
   "metadata": {},
   "outputs": [],
   "source": [
    "model.compile( loss = 'mean_squared_error', optimizer = 'sgd', metrics = ['accuracy'])"
   ]
  },
  {
   "cell_type": "code",
   "execution_count": 180,
   "metadata": {},
   "outputs": [
    {
     "name": "stdout",
     "output_type": "stream",
     "text": [
      "Epoch 1/100\n",
      "14/15 [===========================>..] - ETA: 0s - loss: 164912864.0000 - accuracy: 0.0000e+00"
     ]
    },
    {
     "name": "stdout",
     "output_type": "stream",
     "text": [
      "15/15 [==============================] - 1s 29ms/step - loss: 164868576.0000 - accuracy: 0.0000e+00 - val_loss: 88918928.0000 - val_accuracy: 0.0000e+00\n",
      "Epoch 2/100\n",
      "15/15 [==============================] - 0s 6ms/step - loss: 96454968.0000 - accuracy: 0.0000e+00 - val_loss: 59490100.0000 - val_accuracy: 0.0000e+00\n",
      "Epoch 3/100\n",
      "15/15 [==============================] - 0s 6ms/step - loss: 68282312.0000 - accuracy: 0.0000e+00 - val_loss: 46569072.0000 - val_accuracy: 0.0000e+00\n",
      "Epoch 4/100\n",
      "15/15 [==============================] - 0s 6ms/step - loss: 54561208.0000 - accuracy: 0.0000e+00 - val_loss: 45636908.0000 - val_accuracy: 0.0000e+00\n",
      "Epoch 5/100\n",
      "15/15 [==============================] - 0s 8ms/step - loss: 51229232.0000 - accuracy: 0.0000e+00 - val_loss: 44550124.0000 - val_accuracy: 0.0000e+00\n",
      "Epoch 6/100\n",
      "15/15 [==============================] - 0s 9ms/step - loss: 51926892.0000 - accuracy: 0.0000e+00 - val_loss: 54128408.0000 - val_accuracy: 0.0000e+00\n",
      "Epoch 7/100\n",
      "15/15 [==============================] - 0s 6ms/step - loss: 52701096.0000 - accuracy: 0.0000e+00 - val_loss: 46288100.0000 - val_accuracy: 0.0000e+00\n",
      "Epoch 8/100\n",
      "15/15 [==============================] - 0s 6ms/step - loss: 50283496.0000 - accuracy: 0.0000e+00 - val_loss: 45577848.0000 - val_accuracy: 0.0000e+00\n",
      "Epoch 9/100\n",
      "15/15 [==============================] - 0s 7ms/step - loss: 47183564.0000 - accuracy: 0.0000e+00 - val_loss: 45631860.0000 - val_accuracy: 0.0000e+00\n",
      "Epoch 10/100\n",
      "15/15 [==============================] - 0s 8ms/step - loss: 46616228.0000 - accuracy: 0.0000e+00 - val_loss: 42044792.0000 - val_accuracy: 0.0000e+00\n",
      "Epoch 11/100\n",
      "15/15 [==============================] - 0s 8ms/step - loss: 45444740.0000 - accuracy: 0.0000e+00 - val_loss: 42155240.0000 - val_accuracy: 0.0000e+00\n",
      "Epoch 12/100\n",
      "15/15 [==============================] - 0s 8ms/step - loss: 44331756.0000 - accuracy: 0.0000e+00 - val_loss: 47093100.0000 - val_accuracy: 0.0000e+00\n",
      "Epoch 13/100\n",
      "15/15 [==============================] - 0s 6ms/step - loss: 44375748.0000 - accuracy: 0.0000e+00 - val_loss: 42922084.0000 - val_accuracy: 0.0000e+00\n",
      "Epoch 14/100\n",
      "15/15 [==============================] - 0s 6ms/step - loss: 43804324.0000 - accuracy: 0.0000e+00 - val_loss: 40100268.0000 - val_accuracy: 0.0000e+00\n",
      "Epoch 15/100\n",
      "15/15 [==============================] - 0s 7ms/step - loss: 44225140.0000 - accuracy: 0.0000e+00 - val_loss: 39936044.0000 - val_accuracy: 0.0000e+00\n",
      "Epoch 16/100\n",
      "15/15 [==============================] - 0s 5ms/step - loss: 43501564.0000 - accuracy: 0.0000e+00 - val_loss: 39990832.0000 - val_accuracy: 0.0000e+00\n",
      "Epoch 17/100\n",
      "15/15 [==============================] - 0s 7ms/step - loss: 43202520.0000 - accuracy: 0.0000e+00 - val_loss: 39056164.0000 - val_accuracy: 0.0000e+00\n",
      "Epoch 18/100\n",
      "15/15 [==============================] - 0s 6ms/step - loss: 42528232.0000 - accuracy: 0.0000e+00 - val_loss: 39375108.0000 - val_accuracy: 0.0000e+00\n",
      "Epoch 19/100\n",
      "15/15 [==============================] - 0s 7ms/step - loss: 42472220.0000 - accuracy: 0.0000e+00 - val_loss: 45252632.0000 - val_accuracy: 0.0000e+00\n",
      "Epoch 20/100\n",
      "15/15 [==============================] - 0s 6ms/step - loss: 44948576.0000 - accuracy: 0.0000e+00 - val_loss: 44559060.0000 - val_accuracy: 0.0000e+00\n",
      "Epoch 21/100\n",
      "15/15 [==============================] - 0s 7ms/step - loss: 45749156.0000 - accuracy: 0.0000e+00 - val_loss: 42216376.0000 - val_accuracy: 0.0000e+00\n",
      "Epoch 22/100\n",
      "15/15 [==============================] - 0s 6ms/step - loss: 43091712.0000 - accuracy: 0.0000e+00 - val_loss: 42521636.0000 - val_accuracy: 0.0000e+00\n",
      "Epoch 23/100\n",
      "15/15 [==============================] - 0s 5ms/step - loss: 42615960.0000 - accuracy: 0.0000e+00 - val_loss: 44909580.0000 - val_accuracy: 0.0000e+00\n",
      "Epoch 24/100\n",
      "15/15 [==============================] - 0s 5ms/step - loss: 42227968.0000 - accuracy: 0.0000e+00 - val_loss: 44219776.0000 - val_accuracy: 0.0000e+00\n",
      "Epoch 25/100\n",
      "15/15 [==============================] - 0s 5ms/step - loss: 41862960.0000 - accuracy: 0.0000e+00 - val_loss: 45982744.0000 - val_accuracy: 0.0000e+00\n",
      "Epoch 26/100\n",
      "15/15 [==============================] - 0s 4ms/step - loss: 41683756.0000 - accuracy: 0.0000e+00 - val_loss: 47302232.0000 - val_accuracy: 0.0000e+00\n",
      "Epoch 27/100\n",
      "15/15 [==============================] - 0s 4ms/step - loss: 41613380.0000 - accuracy: 0.0000e+00 - val_loss: 45118576.0000 - val_accuracy: 0.0000e+00\n",
      "Epoch 28/100\n",
      "15/15 [==============================] - 0s 5ms/step - loss: 42762268.0000 - accuracy: 0.0000e+00 - val_loss: 41225408.0000 - val_accuracy: 0.0000e+00\n",
      "Epoch 29/100\n",
      "15/15 [==============================] - 0s 5ms/step - loss: 42169972.0000 - accuracy: 0.0000e+00 - val_loss: 40898764.0000 - val_accuracy: 0.0000e+00\n",
      "Epoch 30/100\n",
      "15/15 [==============================] - 0s 5ms/step - loss: 41976928.0000 - accuracy: 0.0000e+00 - val_loss: 42414936.0000 - val_accuracy: 0.0000e+00\n",
      "Epoch 31/100\n",
      "15/15 [==============================] - 0s 5ms/step - loss: 41151716.0000 - accuracy: 0.0000e+00 - val_loss: 41147432.0000 - val_accuracy: 0.0000e+00\n",
      "Epoch 32/100\n",
      "15/15 [==============================] - 0s 5ms/step - loss: 40609152.0000 - accuracy: 0.0000e+00 - val_loss: 40359400.0000 - val_accuracy: 0.0000e+00\n",
      "Epoch 33/100\n",
      "15/15 [==============================] - 0s 5ms/step - loss: 40639448.0000 - accuracy: 0.0000e+00 - val_loss: 43055768.0000 - val_accuracy: 0.0000e+00\n",
      "Epoch 34/100\n",
      "15/15 [==============================] - 0s 5ms/step - loss: 40054624.0000 - accuracy: 0.0000e+00 - val_loss: 42232952.0000 - val_accuracy: 0.0000e+00\n",
      "Epoch 35/100\n",
      "15/15 [==============================] - 0s 5ms/step - loss: 39646932.0000 - accuracy: 0.0000e+00 - val_loss: 41341784.0000 - val_accuracy: 0.0000e+00\n",
      "Epoch 36/100\n",
      "15/15 [==============================] - 0s 5ms/step - loss: 39183920.0000 - accuracy: 0.0000e+00 - val_loss: 40528428.0000 - val_accuracy: 0.0000e+00\n",
      "Epoch 37/100\n",
      "15/15 [==============================] - 0s 10ms/step - loss: 38754888.0000 - accuracy: 0.0000e+00 - val_loss: 42995252.0000 - val_accuracy: 0.0000e+00\n",
      "Epoch 38/100\n",
      "15/15 [==============================] - 0s 5ms/step - loss: 38762448.0000 - accuracy: 0.0000e+00 - val_loss: 40336188.0000 - val_accuracy: 0.0000e+00\n",
      "Epoch 39/100\n",
      "15/15 [==============================] - 0s 7ms/step - loss: 38666840.0000 - accuracy: 0.0000e+00 - val_loss: 42321004.0000 - val_accuracy: 0.0000e+00\n",
      "Epoch 40/100\n",
      "15/15 [==============================] - 0s 8ms/step - loss: 39713936.0000 - accuracy: 0.0000e+00 - val_loss: 47492232.0000 - val_accuracy: 0.0000e+00\n",
      "Epoch 41/100\n",
      "15/15 [==============================] - 0s 6ms/step - loss: 39751000.0000 - accuracy: 0.0000e+00 - val_loss: 44065680.0000 - val_accuracy: 0.0000e+00\n",
      "Epoch 42/100\n",
      "15/15 [==============================] - 0s 7ms/step - loss: 39514048.0000 - accuracy: 0.0000e+00 - val_loss: 42709388.0000 - val_accuracy: 0.0000e+00\n",
      "Epoch 43/100\n",
      "15/15 [==============================] - 0s 7ms/step - loss: 38878560.0000 - accuracy: 0.0000e+00 - val_loss: 46402064.0000 - val_accuracy: 0.0000e+00\n",
      "Epoch 44/100\n",
      "15/15 [==============================] - 0s 8ms/step - loss: 38946180.0000 - accuracy: 0.0000e+00 - val_loss: 42373948.0000 - val_accuracy: 0.0000e+00\n",
      "Epoch 45/100\n",
      "15/15 [==============================] - 0s 7ms/step - loss: 38839716.0000 - accuracy: 0.0000e+00 - val_loss: 42307868.0000 - val_accuracy: 0.0000e+00\n",
      "Epoch 46/100\n",
      "15/15 [==============================] - 0s 6ms/step - loss: 38727288.0000 - accuracy: 0.0000e+00 - val_loss: 44097572.0000 - val_accuracy: 0.0000e+00\n",
      "Epoch 47/100\n",
      "15/15 [==============================] - 0s 7ms/step - loss: 38926940.0000 - accuracy: 0.0000e+00 - val_loss: 43604880.0000 - val_accuracy: 0.0000e+00\n",
      "Epoch 48/100\n",
      "15/15 [==============================] - 0s 7ms/step - loss: 39026556.0000 - accuracy: 0.0000e+00 - val_loss: 43610884.0000 - val_accuracy: 0.0000e+00\n",
      "Epoch 49/100\n",
      "15/15 [==============================] - 0s 7ms/step - loss: 38260624.0000 - accuracy: 0.0000e+00 - val_loss: 44338132.0000 - val_accuracy: 0.0000e+00\n",
      "Epoch 50/100\n",
      "15/15 [==============================] - 0s 7ms/step - loss: 39109340.0000 - accuracy: 0.0000e+00 - val_loss: 43256200.0000 - val_accuracy: 0.0000e+00\n",
      "Epoch 51/100\n",
      "15/15 [==============================] - 0s 7ms/step - loss: 38706416.0000 - accuracy: 0.0000e+00 - val_loss: 43835544.0000 - val_accuracy: 0.0000e+00\n",
      "Epoch 52/100\n",
      "15/15 [==============================] - 0s 6ms/step - loss: 38988140.0000 - accuracy: 0.0000e+00 - val_loss: 46491596.0000 - val_accuracy: 0.0000e+00\n",
      "Epoch 53/100\n",
      "15/15 [==============================] - 0s 6ms/step - loss: 39032756.0000 - accuracy: 0.0000e+00 - val_loss: 51631924.0000 - val_accuracy: 0.0000e+00\n",
      "Epoch 54/100\n",
      "15/15 [==============================] - 0s 6ms/step - loss: 39306360.0000 - accuracy: 0.0000e+00 - val_loss: 45006868.0000 - val_accuracy: 0.0000e+00\n",
      "Epoch 55/100\n",
      "15/15 [==============================] - 0s 6ms/step - loss: 38528776.0000 - accuracy: 0.0000e+00 - val_loss: 44073752.0000 - val_accuracy: 0.0000e+00\n",
      "Epoch 56/100\n",
      "15/15 [==============================] - 0s 6ms/step - loss: 39986952.0000 - accuracy: 0.0000e+00 - val_loss: 47052340.0000 - val_accuracy: 0.0000e+00\n",
      "Epoch 57/100\n",
      "15/15 [==============================] - 0s 7ms/step - loss: 40530816.0000 - accuracy: 0.0000e+00 - val_loss: 46594940.0000 - val_accuracy: 0.0000e+00\n",
      "Epoch 58/100\n",
      "15/15 [==============================] - 0s 7ms/step - loss: 39638944.0000 - accuracy: 0.0000e+00 - val_loss: 47800472.0000 - val_accuracy: 0.0000e+00\n",
      "Epoch 59/100\n",
      "15/15 [==============================] - 0s 6ms/step - loss: 39321336.0000 - accuracy: 0.0000e+00 - val_loss: 46332948.0000 - val_accuracy: 0.0000e+00\n",
      "Epoch 60/100\n",
      "15/15 [==============================] - 0s 6ms/step - loss: 39637852.0000 - accuracy: 0.0000e+00 - val_loss: 47866356.0000 - val_accuracy: 0.0000e+00\n",
      "Epoch 61/100\n",
      "15/15 [==============================] - 0s 7ms/step - loss: 39141836.0000 - accuracy: 0.0000e+00 - val_loss: 47152140.0000 - val_accuracy: 0.0000e+00\n",
      "Epoch 62/100\n",
      "15/15 [==============================] - 0s 6ms/step - loss: 38851628.0000 - accuracy: 0.0000e+00 - val_loss: 45869392.0000 - val_accuracy: 0.0000e+00\n",
      "Epoch 63/100\n",
      "15/15 [==============================] - 0s 5ms/step - loss: 39222476.0000 - accuracy: 0.0000e+00 - val_loss: 43158756.0000 - val_accuracy: 0.0000e+00\n",
      "Epoch 64/100\n",
      "15/15 [==============================] - 0s 7ms/step - loss: 38712552.0000 - accuracy: 0.0000e+00 - val_loss: 45028972.0000 - val_accuracy: 0.0000e+00\n",
      "Epoch 65/100\n",
      "15/15 [==============================] - 0s 6ms/step - loss: 38865308.0000 - accuracy: 0.0000e+00 - val_loss: 42798892.0000 - val_accuracy: 0.0000e+00\n",
      "Epoch 66/100\n",
      "15/15 [==============================] - 0s 8ms/step - loss: 38875760.0000 - accuracy: 0.0000e+00 - val_loss: 45005952.0000 - val_accuracy: 0.0000e+00\n",
      "Epoch 67/100\n",
      "15/15 [==============================] - 0s 7ms/step - loss: 38783844.0000 - accuracy: 0.0000e+00 - val_loss: 42699856.0000 - val_accuracy: 0.0000e+00\n",
      "Epoch 68/100\n",
      "15/15 [==============================] - 0s 6ms/step - loss: 38726200.0000 - accuracy: 0.0000e+00 - val_loss: 45073656.0000 - val_accuracy: 0.0000e+00\n",
      "Epoch 69/100\n",
      "15/15 [==============================] - 0s 7ms/step - loss: 39070404.0000 - accuracy: 0.0000e+00 - val_loss: 45774676.0000 - val_accuracy: 0.0000e+00\n",
      "Epoch 70/100\n",
      "15/15 [==============================] - 0s 7ms/step - loss: 38906000.0000 - accuracy: 0.0000e+00 - val_loss: 45069300.0000 - val_accuracy: 0.0000e+00\n",
      "Epoch 71/100\n",
      "15/15 [==============================] - 0s 5ms/step - loss: 38558464.0000 - accuracy: 0.0000e+00 - val_loss: 48129484.0000 - val_accuracy: 0.0000e+00\n",
      "Epoch 72/100\n",
      "15/15 [==============================] - 0s 7ms/step - loss: 38975324.0000 - accuracy: 0.0000e+00 - val_loss: 48128496.0000 - val_accuracy: 0.0000e+00\n",
      "Epoch 73/100\n",
      "15/15 [==============================] - 0s 6ms/step - loss: 39126980.0000 - accuracy: 0.0000e+00 - val_loss: 49323384.0000 - val_accuracy: 0.0000e+00\n",
      "Epoch 74/100\n",
      "15/15 [==============================] - 0s 7ms/step - loss: 39516664.0000 - accuracy: 0.0000e+00 - val_loss: 52131784.0000 - val_accuracy: 0.0000e+00\n",
      "Epoch 75/100\n",
      "15/15 [==============================] - 0s 6ms/step - loss: 39433924.0000 - accuracy: 0.0000e+00 - val_loss: 44292508.0000 - val_accuracy: 0.0000e+00\n",
      "Epoch 76/100\n",
      "15/15 [==============================] - 0s 5ms/step - loss: 38592072.0000 - accuracy: 0.0000e+00 - val_loss: 43708640.0000 - val_accuracy: 0.0000e+00\n",
      "Epoch 77/100\n",
      "15/15 [==============================] - 0s 6ms/step - loss: 38514600.0000 - accuracy: 0.0000e+00 - val_loss: 43931652.0000 - val_accuracy: 0.0000e+00\n",
      "Epoch 78/100\n",
      "15/15 [==============================] - 0s 6ms/step - loss: 38107280.0000 - accuracy: 0.0000e+00 - val_loss: 44553692.0000 - val_accuracy: 0.0000e+00\n",
      "Epoch 79/100\n",
      "15/15 [==============================] - 0s 6ms/step - loss: 38212988.0000 - accuracy: 0.0000e+00 - val_loss: 45565588.0000 - val_accuracy: 0.0000e+00\n",
      "Epoch 80/100\n",
      "15/15 [==============================] - 0s 6ms/step - loss: 38270648.0000 - accuracy: 0.0000e+00 - val_loss: 45727540.0000 - val_accuracy: 0.0000e+00\n",
      "Epoch 81/100\n",
      "15/15 [==============================] - 0s 5ms/step - loss: 40419488.0000 - accuracy: 0.0000e+00 - val_loss: 45414400.0000 - val_accuracy: 0.0000e+00\n",
      "Epoch 82/100\n",
      "15/15 [==============================] - 0s 6ms/step - loss: 40462356.0000 - accuracy: 0.0000e+00 - val_loss: 45014968.0000 - val_accuracy: 0.0000e+00\n",
      "Epoch 83/100\n",
      "15/15 [==============================] - 0s 11ms/step - loss: 39524080.0000 - accuracy: 0.0000e+00 - val_loss: 44344696.0000 - val_accuracy: 0.0000e+00\n",
      "Epoch 84/100\n",
      "15/15 [==============================] - 0s 5ms/step - loss: 39525260.0000 - accuracy: 0.0000e+00 - val_loss: 45043224.0000 - val_accuracy: 0.0000e+00\n",
      "Epoch 85/100\n",
      "15/15 [==============================] - 0s 7ms/step - loss: 39175144.0000 - accuracy: 0.0000e+00 - val_loss: 44194336.0000 - val_accuracy: 0.0000e+00\n",
      "Epoch 86/100\n",
      "15/15 [==============================] - 0s 6ms/step - loss: 39261080.0000 - accuracy: 0.0000e+00 - val_loss: 44147572.0000 - val_accuracy: 0.0000e+00\n",
      "Epoch 87/100\n",
      "15/15 [==============================] - 0s 6ms/step - loss: 38899712.0000 - accuracy: 0.0000e+00 - val_loss: 49214792.0000 - val_accuracy: 0.0000e+00\n",
      "Epoch 88/100\n",
      "15/15 [==============================] - 0s 6ms/step - loss: 39194220.0000 - accuracy: 0.0000e+00 - val_loss: 45831504.0000 - val_accuracy: 0.0000e+00\n",
      "Epoch 89/100\n",
      "15/15 [==============================] - 0s 7ms/step - loss: 38784744.0000 - accuracy: 0.0000e+00 - val_loss: 46146188.0000 - val_accuracy: 0.0000e+00\n",
      "Epoch 90/100\n",
      "15/15 [==============================] - 0s 7ms/step - loss: 38877632.0000 - accuracy: 0.0000e+00 - val_loss: 43409984.0000 - val_accuracy: 0.0000e+00\n",
      "Epoch 91/100\n",
      "15/15 [==============================] - 0s 6ms/step - loss: 38363948.0000 - accuracy: 0.0000e+00 - val_loss: 43283092.0000 - val_accuracy: 0.0000e+00\n",
      "Epoch 92/100\n",
      "15/15 [==============================] - 0s 7ms/step - loss: 38354164.0000 - accuracy: 0.0000e+00 - val_loss: 43270820.0000 - val_accuracy: 0.0000e+00\n",
      "Epoch 93/100\n",
      "15/15 [==============================] - 0s 6ms/step - loss: 38170148.0000 - accuracy: 0.0000e+00 - val_loss: 43841232.0000 - val_accuracy: 0.0000e+00\n",
      "Epoch 94/100\n",
      "15/15 [==============================] - 0s 6ms/step - loss: 37942516.0000 - accuracy: 0.0000e+00 - val_loss: 43104032.0000 - val_accuracy: 0.0000e+00\n",
      "Epoch 95/100\n",
      "15/15 [==============================] - 0s 6ms/step - loss: 37886712.0000 - accuracy: 0.0000e+00 - val_loss: 44903708.0000 - val_accuracy: 0.0000e+00\n",
      "Epoch 96/100\n",
      "15/15 [==============================] - 0s 8ms/step - loss: 38080772.0000 - accuracy: 0.0000e+00 - val_loss: 42728792.0000 - val_accuracy: 0.0000e+00\n",
      "Epoch 97/100\n",
      "15/15 [==============================] - 0s 6ms/step - loss: 37678764.0000 - accuracy: 0.0000e+00 - val_loss: 47539428.0000 - val_accuracy: 0.0000e+00\n",
      "Epoch 98/100\n",
      "15/15 [==============================] - 0s 6ms/step - loss: 38100436.0000 - accuracy: 0.0000e+00 - val_loss: 45349288.0000 - val_accuracy: 0.0000e+00\n",
      "Epoch 99/100\n",
      "15/15 [==============================] - 0s 6ms/step - loss: 39988512.0000 - accuracy: 0.0000e+00 - val_loss: 45343208.0000 - val_accuracy: 0.0000e+00\n",
      "Epoch 100/100\n",
      "15/15 [==============================] - 0s 6ms/step - loss: 39221896.0000 - accuracy: 0.0000e+00 - val_loss: 47935020.0000 - val_accuracy: 0.0000e+00\n"
     ]
    }
   ],
   "source": [
    "history = model.fit(x_train, y_train, epochs=100, batch_size=64, verbose=1, validation_split=0.1)"
   ]
  },
  {
   "cell_type": "code",
   "execution_count": 181,
   "metadata": {},
   "outputs": [
    {
     "name": "stdout",
     "output_type": "stream",
     "text": [
      "11/11 [==============================] - 0s 3ms/step\n"
     ]
    }
   ],
   "source": [
    "y_pred = model.predict(x_test)"
   ]
  },
  {
   "cell_type": "code",
   "execution_count": 182,
   "metadata": {},
   "outputs": [
    {
     "data": {
      "text/plain": [
       "0.7211557906084105"
      ]
     },
     "execution_count": 182,
     "metadata": {},
     "output_type": "execute_result"
    }
   ],
   "source": [
    "r2_score(y_test,y_pred)"
   ]
  },
  {
   "cell_type": "code",
   "execution_count": 183,
   "metadata": {},
   "outputs": [
    {
     "data": {
      "text/plain": [
       "[<matplotlib.lines.Line2D at 0x299901748e0>]"
      ]
     },
     "execution_count": 183,
     "metadata": {},
     "output_type": "execute_result"
    },
    {
     "data": {
      "image/png": "[encoded data removed]",
      "text/plain": [
       "<Figure size 640x480 with 1 Axes>"
      ]
     },
     "metadata": {},
     "output_type": "display_data"
    }
   ],
   "source": [
    "plt.plot(history.history['loss'])\n",
    "plt.plot(history.history['val_loss'])"
   ]
  }
 ],
 "metadata": {
  "kernelspec": {
   "display_name": "base",
   "language": "python",
   "name": "python3"
  },
  "language_info": {
   "codemirror_mode": {
    "name": "ipython",
    "version": 3
   },
   "file_extension": ".py",
   "mimetype": "text/x-python",
   "name": "python",
   "nbconvert_exporter": "python",
   "pygments_lexer": "ipython3",
   "version": "3.9.13"
  },
  "orig_nbformat": 4
 },
 "nbformat": 4,
 "nbformat_minor": 2
}
